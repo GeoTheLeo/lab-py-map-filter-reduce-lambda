{
 "cells": [
  {
   "cell_type": "markdown",
   "metadata": {},
   "source": [
    "# LAB | Map, Reduce, Filter, and Lambda in Python"
   ]
  },
  {
   "cell_type": "markdown",
   "metadata": {},
   "source": [
    "## Overview\n",
    "This exercise notebook will help you practice using `map`, `reduce`, `filter`, and `lambda` functions in Python. These functional programming techniques allow for concise and efficient data manipulation.\n",
    "\n",
    "## Instructions\n",
    "- Complete each exercise by writing the appropriate code in the provided space.\n",
    "- Test your code to ensure it works as expected.\n",
    "- Feel free to use comments to explain your thought process."
   ]
  },
  {
   "cell_type": "markdown",
   "metadata": {},
   "source": [
    "### Exercise 1: Triple All Numbers\n",
    "Write a Python program that triples all numbers in a given list of integers using the `map` function.\n"
   ]
  },
  {
   "cell_type": "code",
   "execution_count": 1,
   "metadata": {},
   "outputs": [
    {
     "name": "stdout",
     "output_type": "stream",
     "text": [
      "Original list: [1, 2, 3, 4, 5]\n",
      "Tripled list: [3, 6, 9, 12, 15]\n"
     ]
    }
   ],
   "source": [
    "def triple_numbers(numbers):\n",
    "    return list(map(lambda x: x * 3, numbers))\n",
    "\n",
    "# Example usage\n",
    "input_list = [1, 2, 3, 4, 5]\n",
    "tripled_list = triple_numbers(input_list)\n",
    "\n",
    "print(\"Original list:\", input_list)\n",
    "print(\"Tripled list:\", tripled_list)"
   ]
  },
  {
   "cell_type": "markdown",
   "metadata": {},
   "source": [
    "### Exercise 2: Add Three Lists\n",
    "Write a Python program that adds three given lists element-wise using the `map` function and `lambda`."
   ]
  },
  {
   "cell_type": "code",
   "execution_count": 2,
   "metadata": {},
   "outputs": [
    {
     "name": "stdout",
     "output_type": "stream",
     "text": [
      "List 1: [1, 2, 3]\n",
      "List 2: [4, 5, 6]\n",
      "List 3: [7, 8, 9]\n",
      "Element-wise sum: [12, 15, 18]\n"
     ]
    }
   ],
   "source": [
    "def add_three_lists(list1, list2, list3):\n",
    "    return list(map(lambda x, y, z: x + y + z, list1, list2, list3))\n",
    "\n",
    "# Example usage\n",
    "list1 = [1, 2, 3]\n",
    "list2 = [4, 5, 6]\n",
    "list3 = [7, 8, 9]\n",
    "\n",
    "result = add_three_lists(list1, list2, list3)\n",
    "\n",
    "print(\"List 1:\", list1)\n",
    "print(\"List 2:\", list2)\n",
    "print(\"List 3:\", list3)\n",
    "print(\"Element-wise sum:\", result)\n"
   ]
  },
  {
   "cell_type": "markdown",
   "metadata": {},
   "source": [
    "### Exercise 3: Listify Strings\n",
    "Write a Python program that converts a list of strings into a list of lists containing individual characters using the `map` function."
   ]
  },
  {
   "cell_type": "code",
   "execution_count": 3,
   "metadata": {},
   "outputs": [
    {
     "name": "stdout",
     "output_type": "stream",
     "text": [
      "Original list: ['apple', 'banana', 'frog']\n",
      "List of character lists: [['a', 'p', 'p', 'l', 'e'], ['b', 'a', 'n', 'a', 'n', 'a'], ['f', 'r', 'o', 'g']]\n"
     ]
    }
   ],
   "source": [
    "def strings_to_char_lists(strings):\n",
    "    return list(map(list, strings))\n",
    "\n",
    "# Example usage\n",
    "input_list = [\"apple\", \"banana\", \"frog\"]\n",
    "result = strings_to_char_lists(input_list)\n",
    "\n",
    "print(\"Original list:\", input_list)\n",
    "print(\"List of character lists:\", result)\n"
   ]
  },
  {
   "cell_type": "markdown",
   "metadata": {},
   "source": [
    "### Exercise 4: Power of Numbers\n",
    "Write a Python program that creates a list containing the power of a number raised to the corresponding index in the list using the `map` function."
   ]
  },
  {
   "cell_type": "code",
   "execution_count": 5,
   "metadata": {},
   "outputs": [
    {
     "name": "stdout",
     "output_type": "stream",
     "text": [
      "Powers of 2 up to INDEX 4: [1, 2, 4, 8, 16]\n"
     ]
    }
   ],
   "source": [
    "def powers_by_index(base, length):\n",
    "    return list(map(lambda i: base ** i, range(length)))\n",
    "\n",
    "# Example usage\n",
    "base_number = 2\n",
    "list_length = 5\n",
    "\n",
    "result = powers_by_index(base_number, list_length)\n",
    "\n",
    "print(f\"Powers of {base_number} up to INDEX {list_length - 1}:\", result)\n"
   ]
  },
  {
   "cell_type": "markdown",
   "metadata": {},
   "source": [
    "### Exercise 5: Square Elements of a List\n",
    "Write a Python program that squares the elements of a given list using the `map` function."
   ]
  },
  {
   "cell_type": "code",
   "execution_count": 6,
   "metadata": {},
   "outputs": [
    {
     "name": "stdout",
     "output_type": "stream",
     "text": [
      "Original list: [2, 4, 3, 5, 7]\n",
      "Squared list: [4, 16, 9, 25, 49]\n"
     ]
    }
   ],
   "source": [
    "def square_elements(numbers):\n",
    "    return list(map(lambda x: x ** 2, numbers))\n",
    "\n",
    "# Example usage\n",
    "input_list = [2, 4, 3, 5, 7]\n",
    "squared_list = square_elements(input_list)\n",
    "\n",
    "print(\"Original list:\", input_list)\n",
    "print(\"Squared list:\", squared_list)\n"
   ]
  },
  {
   "cell_type": "markdown",
   "metadata": {},
   "source": [
    "### Exercise 6: Filter Even Numbers\n",
    "Write a Python program that filters out even numbers from a list using the `filter` function and `lambda`.\n"
   ]
  },
  {
   "cell_type": "code",
   "execution_count": 8,
   "metadata": {},
   "outputs": [
    {
     "name": "stdout",
     "output_type": "stream",
     "text": [
      "Original list: [19, 2, 3, 4, 17, 6, 7, 8, 12, 10]\n",
      "List with even numbers removed: [19, 3, 17, 7]\n"
     ]
    }
   ],
   "source": [
    "def filter_out_even(numbers):\n",
    "    return list(filter(lambda x: x % 2 != 0, numbers))\n",
    "\n",
    "# Example usage\n",
    "input_list = [19, 2, 3, 4, 17, 6, 7, 8, 12, 10]\n",
    "filtered_list = filter_out_even(input_list)\n",
    "\n",
    "print(\"Original list:\", input_list)\n",
    "print(\"List with even numbers removed:\", filtered_list)\n"
   ]
  },
  {
   "cell_type": "markdown",
   "metadata": {},
   "source": [
    "### Exercise 7: Uppercase Conversion with Map\n",
    "Write a Python program that converts all characters in a given list of strings to uppercase using the `map` function."
   ]
  },
  {
   "cell_type": "code",
   "execution_count": 9,
   "metadata": {},
   "outputs": [
    {
     "name": "stdout",
     "output_type": "stream",
     "text": [
      "Original list: ['apple', 'pizza', 'cherry']\n",
      "Uppercase list: ['APPLE', 'PIZZA', 'CHERRY']\n"
     ]
    }
   ],
   "source": [
    "def convert_to_uppercase(strings):\n",
    "    return list(map(lambda s: s.upper(), strings))\n",
    "\n",
    "# Example usage\n",
    "input_list = [\"apple\", \"pizza\", \"cherry\"]\n",
    "uppercase_list = convert_to_uppercase(input_list)\n",
    "\n",
    "print(\"Original list:\", input_list)\n",
    "print(\"Uppercase list:\", uppercase_list)\n"
   ]
  },
  {
   "cell_type": "markdown",
   "metadata": {},
   "source": [
    "### Exercise 8: Count Positive and Negative Numbers with Filter\n",
    "Write a Python program that counts how many positive and negative numbers are in a given list using the `filter` function."
   ]
  },
  {
   "cell_type": "code",
   "execution_count": 11,
   "metadata": {},
   "outputs": [
    {
     "name": "stdout",
     "output_type": "stream",
     "text": [
      "Original list: [10, -3, 0, 5, -7, 12, -11]\n",
      "Number of positive values: 3\n",
      "Number of negative values: 3\n"
     ]
    }
   ],
   "source": [
    "def count_positive_negative(numbers):\n",
    "    positive_count = len(list(filter(lambda x: x > 0, numbers)))\n",
    "    negative_count = len(list(filter(lambda x: x < 0, numbers)))\n",
    "    return positive_count, negative_count\n",
    "\n",
    "# Example usage\n",
    "input_list = [10, -3, 0, 5, -7, 12, -11]\n",
    "pos_count, neg_count = count_positive_negative(input_list)\n",
    "\n",
    "print(\"Original list:\", input_list)\n",
    "print(\"Number of positive values:\", pos_count)\n",
    "print(\"Number of negative values:\", neg_count)\n"
   ]
  },
  {
   "cell_type": "markdown",
   "metadata": {},
   "source": [
    "### Exercise 9: Sum of Squares with Reduce\n",
    "Using the `reduce` function from the `functools` module, compute the sum of squares of all numbers in a given list.\n"
   ]
  },
  {
   "cell_type": "code",
   "execution_count": 14,
   "metadata": {},
   "outputs": [
    {
     "name": "stdout",
     "output_type": "stream",
     "text": [
      "Original list: [18, 2, 5, 4]\n",
      "Sum of squares: 369\n"
     ]
    }
   ],
   "source": [
    "from functools import reduce\n",
    "\n",
    "def sum_of_squares(numbers):\n",
    "    return reduce(lambda acc, x: acc + x * x, numbers, 0)\n",
    "\n",
    "# Example usage\n",
    "input_list = [18, 2, 5, 4]\n",
    "result = sum_of_squares(input_list)\n",
    "\n",
    "print(\"Original list:\", input_list)\n",
    "print(\"Sum of squares:\", result)\n"
   ]
  },
  {
   "cell_type": "markdown",
   "metadata": {},
   "source": [
    "### Exercise 10: Lambda Function for Addition\n",
    "Create a lambda function that adds two numbers and test it with sample inputs."
   ]
  },
  {
   "cell_type": "code",
   "execution_count": 16,
   "metadata": {},
   "outputs": [
    {
     "name": "stdout",
     "output_type": "stream",
     "text": [
      "8 + 3 = 11\n",
      "10 + 12 = 22\n",
      "-1 + 8 = 7\n"
     ]
    }
   ],
   "source": [
    "# Lambda function to add two numbers\n",
    "add = lambda x, y: x + y\n",
    "\n",
    "# Test with sample inputs\n",
    "print(\"8 + 3 =\", add(8, 3))\n",
    "print(\"10 + 12 =\", add(10, 12))\n",
    "print(\"-1 + 8 =\", add(-1, 8))\n"
   ]
  },
  {
   "cell_type": "markdown",
   "metadata": {},
   "source": [
    "### Exercise 11: Filter Strings with Specific Lengths \n",
    "Write a Python program that filters strings from a list based on their length using the `filter` function."
   ]
  },
  {
   "cell_type": "code",
   "execution_count": 17,
   "metadata": {},
   "outputs": [
    {
     "name": "stdout",
     "output_type": "stream",
     "text": [
      "Original list: ['apple', 'kiwi', 'banana', 'fig', 'stawberry']\n",
      "Strings with length >= 5: ['apple', 'banana', 'stawberry']\n"
     ]
    }
   ],
   "source": [
    "def filter_by_length(strings, min_length):\n",
    "    return list(filter(lambda s: len(s) >= min_length, strings))\n",
    "\n",
    "# Example usage\n",
    "input_list = [\"apple\", \"kiwi\", \"banana\", \"fig\", \"stawberry\"]\n",
    "min_len = 5\n",
    "\n",
    "filtered_list = filter_by_length(input_list, min_len)\n",
    "\n",
    "print(\"Original list:\", input_list)\n",
    "print(f\"Strings with length >= {min_len}:\", filtered_list)\n"
   ]
  },
  {
   "cell_type": "markdown",
   "metadata": {},
   "source": [
    "### Exercise 12: Sort List of Tuples by Second Element \n",
    "Write a Python program that sorts a list of tuples based on the second element using the `sorted()` function and `lambda`."
   ]
  },
  {
   "cell_type": "code",
   "execution_count": 19,
   "metadata": {},
   "outputs": [
    {
     "name": "stdout",
     "output_type": "stream",
     "text": [
      "Original list: [(1, 3), (4, 1), (2, 5), (3, 2)]\n",
      "Sorted by 2nd element: [(4, 1), (3, 2), (1, 3), (2, 5)]\n"
     ]
    }
   ],
   "source": [
    "def sort_by_second_element(tuples_list):\n",
    "    return sorted(tuples_list, key=lambda x: x[1])\n",
    "\n",
    "# Example usage\n",
    "input_list = [(1, 3), (4, 1), (2, 5), (3, 2)]\n",
    "sorted_list = sort_by_second_element(input_list)\n",
    "\n",
    "print(\"Original list:\", input_list)\n",
    "print(\"Sorted by 2nd element:\", sorted_list)\n"
   ]
  },
  {
   "cell_type": "markdown",
   "metadata": {},
   "source": [
    "### Exercise 13: Create Fibonacci Series Using Lambda \n",
    "Write a Python program to create Fibonacci series up to n using lambda functions."
   ]
  },
  {
   "cell_type": "code",
   "execution_count": 20,
   "metadata": {},
   "outputs": [
    {
     "name": "stdout",
     "output_type": "stream",
     "text": [
      "Fibonacci series up to 10 terms: [0, 1, 1, 2, 3, 5, 8, 13, 21, 34]\n"
     ]
    }
   ],
   "source": [
    "from functools import reduce\n",
    "\n",
    "# Fn = Fn-1 + Fn-2, where n > 1 - the Fibonacci formula\n",
    "def fibonacci_series(n):\n",
    "    if n <= 0:\n",
    "        return []\n",
    "    elif n == 1:\n",
    "        return [0]\n",
    "    return reduce(lambda acc, _: acc + [acc[-1] + acc[-2]], range(n - 2), [0, 1])\n",
    "\n",
    "# Example usage\n",
    "n = 10\n",
    "fib_series = fibonacci_series(n)\n",
    "\n",
    "print(f\"Fibonacci series up to {n} terms:\", fib_series)\n"
   ]
  },
  {
   "cell_type": "markdown",
   "metadata": {},
   "source": [
    "### Exercise 14: Find Palindromes Using Filter \n",
    "Write a Python program that finds palindromes in a given list of strings using filter and lambda."
   ]
  },
  {
   "cell_type": "code",
   "execution_count": 21,
   "metadata": {},
   "outputs": [
    {
     "name": "stdout",
     "output_type": "stream",
     "text": [
      "Original list: ['madam', 'python', 'racecar', 'hello', 'level', 'coffee']\n",
      "Palindromes found: ['madam', 'racecar', 'level']\n"
     ]
    }
   ],
   "source": [
    "def find_palindromes(strings):\n",
    "    return list(filter(lambda s: s == s[::-1], strings))\n",
    "\n",
    "# Example usage\n",
    "input_list = [\"madam\", \"python\", \"racecar\", \"hello\", \"level\", \"coffee\"]\n",
    "palindromes = find_palindromes(input_list)\n",
    "\n",
    "print(\"Original list:\", input_list)\n",
    "print(\"Palindromes found:\", palindromes)\n"
   ]
  },
  {
   "cell_type": "markdown",
   "metadata": {},
   "source": [
    "### Exercise 15: Extract Digits from String Using Lambda \n",
    "Write a Python program to extract digits from a given string and store them in a list using lambda."
   ]
  },
  {
   "cell_type": "code",
   "execution_count": 22,
   "metadata": {},
   "outputs": [
    {
     "name": "stdout",
     "output_type": "stream",
     "text": [
      "Original string: a1b2c3d4e5\n",
      "Extracted digits: [1, 2, 3, 4, 5]\n"
     ]
    }
   ],
   "source": [
    "def extract_digits(s):\n",
    "    return list(map(int, filter(lambda c: c.isdigit(), s)))\n",
    "\n",
    "# Example usage\n",
    "input_string = \"a1b2c3d4e5\"\n",
    "digits_list = extract_digits(input_string)\n",
    "\n",
    "print(\"Original string:\", input_string)\n",
    "print(\"Extracted digits:\", digits_list)\n"
   ]
  },
  {
   "cell_type": "markdown",
   "metadata": {},
   "source": [
    "### Exercise 16: Count Vowels Using Lambda \n",
    "Write a Python program to count vowels in each word of a given list using map and lambda."
   ]
  },
  {
   "cell_type": "code",
   "execution_count": 24,
   "metadata": {},
   "outputs": [
    {
     "name": "stdout",
     "output_type": "stream",
     "text": [
      "Original words: ['apple', 'hurricane', 'grape', 'sky', 'tarantula']\n",
      "Vowel counts: [2, 4, 2, 0, 4]\n"
     ]
    }
   ],
   "source": [
    "def count_vowels(words):\n",
    "    return list(map(lambda word: sum(1 for c in word.lower() if c in 'aeiou'), words))\n",
    "\n",
    "# Example usage\n",
    "input_list = [\"apple\", \"hurricane\", \"grape\", \"sky\", \"tarantula\"]\n",
    "vowel_counts = count_vowels(input_list)\n",
    "\n",
    "print(\"Original words:\", input_list)\n",
    "print(\"Vowel counts:\", vowel_counts)\n"
   ]
  },
  {
   "cell_type": "markdown",
   "metadata": {},
   "source": [
    "### Exercise 17: Remove Duplicates Using Lambda \n",
    "Write a Python program that removes duplicates from a list while preserving order using lambda functions."
   ]
  },
  {
   "cell_type": "code",
   "execution_count": 25,
   "metadata": {},
   "outputs": [
    {
     "name": "stdout",
     "output_type": "stream",
     "text": [
      "Original list: [1, 3, 2, 3, 4, 1, 5, 2, 6]\n",
      "List without duplicates (order preserved): [1, 3, 2, 4, 5, 6]\n"
     ]
    }
   ],
   "source": [
    "from functools import reduce\n",
    "\n",
    "def remove_duplicates_preserve_order(lst):\n",
    "    return reduce(lambda acc, x: acc + [x] if x not in acc else acc, lst, [])\n",
    "\n",
    "# Example usage\n",
    "input_list = [1, 3, 2, 3, 4, 1, 5, 2, 6]\n",
    "unique_list = remove_duplicates_preserve_order(input_list)\n",
    "\n",
    "print(\"Original list:\", input_list)\n",
    "print(\"List without duplicates (order preserved):\", unique_list)\n"
   ]
  },
  {
   "cell_type": "markdown",
   "metadata": {},
   "source": [
    "### Exercise 18: Find Maximum Value Using Reduce \n",
    "Use the reduce function to find the maximum value in a list of integers."
   ]
  },
  {
   "cell_type": "code",
   "execution_count": 26,
   "metadata": {},
   "outputs": [
    {
     "name": "stdout",
     "output_type": "stream",
     "text": [
      "Original list: [3, -7, 2, -9, 4, 10, 1]\n",
      "Maximum value: 10\n"
     ]
    }
   ],
   "source": [
    "from functools import reduce\n",
    "\n",
    "def find_max(numbers):\n",
    "    return reduce(lambda a, b: a if a > b else b, numbers)\n",
    "\n",
    "# Example usage\n",
    "input_list = [3, -7, 2, -9, 4, 10, 1]\n",
    "max_value = find_max(input_list)\n",
    "\n",
    "print(\"Original list:\", input_list)\n",
    "print(\"Maximum value:\", max_value)\n"
   ]
  },
  {
   "cell_type": "markdown",
   "metadata": {},
   "source": [
    "### Exercise 19: Filter Out Non-Numeric Values Using Lambda \n",
    "Write a Python program that filters out non-numeric values from an array using lambda functions."
   ]
  },
  {
   "cell_type": "code",
   "execution_count": 27,
   "metadata": {},
   "outputs": [
    {
     "name": "stdout",
     "output_type": "stream",
     "text": [
      "Original list: [1, 'hello', 3.5, None, 42, '123', True, [], 0]\n",
      "Numeric values only: [1, 3.5, 42, True, 0]\n"
     ]
    }
   ],
   "source": [
    "def filter_numeric(values):\n",
    "    return list(filter(lambda x: isinstance(x, (int, float)), values))\n",
    "\n",
    "# Example usage\n",
    "input_list = [1, \"hello\", 3.5, None, 42, \"123\", True, [], 0]\n",
    "numeric_values = filter_numeric(input_list)\n",
    "\n",
    "print(\"Original list:\", input_list)\n",
    "print(\"Numeric values only:\", numeric_values)\n"
   ]
  },
  {
   "cell_type": "markdown",
   "metadata": {},
   "source": [
    "### Exercise 20: Calculate Lengths of Strings Using Map \n",
    "Create a program that calculates the lengths of each string in a given list using map and lambda."
   ]
  },
  {
   "cell_type": "code",
   "execution_count": 28,
   "metadata": {},
   "outputs": [
    {
     "name": "stdout",
     "output_type": "stream",
     "text": [
      "Original list: ['peach', 'pineapple', 'kiwi', 'grape']\n",
      "Lengths of each string: [5, 9, 4, 5]\n"
     ]
    }
   ],
   "source": [
    "def get_string_lengths(strings):\n",
    "    return list(map(lambda s: len(s), strings))\n",
    "\n",
    "# Example usage\n",
    "input_list = [\"peach\", \"pineapple\", \"kiwi\", \"grape\"]\n",
    "lengths = get_string_lengths(input_list)\n",
    "\n",
    "print(\"Original list:\", input_list)\n",
    "print(\"Lengths of each string:\", lengths)\n"
   ]
  },
  {
   "cell_type": "markdown",
   "metadata": {},
   "source": [
    "### Exercise 21: Find Common Elements Between Two Lists Using Filter  \n",
    "Write a Python program to find common elements between two lists using filter and lambda."
   ]
  },
  {
   "cell_type": "code",
   "execution_count": 29,
   "metadata": {},
   "outputs": [
    {
     "name": "stdout",
     "output_type": "stream",
     "text": [
      "List A: [1, 2, 3, 4, 5]\n",
      "List B: [4, 5, 6, 7, 8]\n",
      "Common elements: [4, 5]\n"
     ]
    }
   ],
   "source": [
    "def find_common_elements(list1, list2):\n",
    "    return list(filter(lambda x: x in list2, list1))\n",
    "\n",
    "# Example usage\n",
    "list_a = [1, 2, 3, 4, 5]\n",
    "list_b = [4, 5, 6, 7, 8]\n",
    "\n",
    "common = find_common_elements(list_a, list_b)\n",
    "\n",
    "print(\"List A:\", list_a)\n",
    "print(\"List B:\", list_b)\n",
    "print(\"Common elements:\", common)\n"
   ]
  },
  {
   "cell_type": "markdown",
   "metadata": {},
   "source": [
    "### Exercise 22: Convert Celsius to Fahrenheit Using Map  \n",
    "Create a program that converts temperatures from Celsius to Fahrenheit using map and lambda functions."
   ]
  },
  {
   "cell_type": "code",
   "execution_count": 30,
   "metadata": {},
   "outputs": [
    {
     "name": "stdout",
     "output_type": "stream",
     "text": [
      "Celsius: [0, 20, 42, 100]\n",
      "Fahrenheit: [32.0, 68.0, 107.6, 212.0]\n"
     ]
    }
   ],
   "source": [
    "def celsius_to_fahrenheit(celsius_list):\n",
    "    return list(map(lambda c: (c * 9/5) + 32, celsius_list))\n",
    "\n",
    "# Example usage\n",
    "celsius_values = [0, 20, 42, 100]\n",
    "fahrenheit_values = celsius_to_fahrenheit(celsius_values)\n",
    "\n",
    "print(\"Celsius:\", celsius_values)\n",
    "print(\"Fahrenheit:\", fahrenheit_values)\n"
   ]
  },
  {
   "cell_type": "markdown",
   "metadata": {},
   "source": [
    "### Exercise 23: Check for Prime Numbers Using Filter  \n",
    "Write a Python program that filters out prime numbers from an array of integers using filter and lambda functions."
   ]
  },
  {
   "cell_type": "code",
   "execution_count": 31,
   "metadata": {},
   "outputs": [
    {
     "name": "stdout",
     "output_type": "stream",
     "text": [
      "Original list: [1, 2, 3, 4, 5, 6, 7, 8, 9, 10, 11]\n",
      "Prime numbers: [2, 3, 5, 7, 11]\n"
     ]
    }
   ],
   "source": [
    "def is_prime(n):\n",
    "    return n > 1 and all(n % i != 0 for i in range(2, int(n**0.5) + 1))\n",
    "\n",
    "def filter_primes(numbers):\n",
    "    return list(filter(lambda x: is_prime(x), numbers))\n",
    "\n",
    "# Example usage\n",
    "input_list = [1, 2, 3, 4, 5, 6, 7, 8, 9, 10, 11]\n",
    "prime_numbers = filter_primes(input_list)\n",
    "\n",
    "print(\"Original list:\", input_list)\n",
    "print(\"Prime numbers:\", prime_numbers)\n"
   ]
  },
  {
   "cell_type": "markdown",
   "metadata": {},
   "source": [
    "### Exercise 24: Grouping by Length Using Lambda  \n",
    "Group words by their lengths from an array into separate lists using lambda functions."
   ]
  },
  {
   "cell_type": "code",
   "execution_count": 32,
   "metadata": {},
   "outputs": [
    {
     "name": "stdout",
     "output_type": "stream",
     "text": [
      "Original words: ['hi', 'hello', 'yo!', 'Python', 'code', 'at', 'world', 'go']\n",
      "Grouped by length:\n",
      "Length 2: ['hi', 'at', 'go']\n",
      "Length 3: ['yo!']\n",
      "Length 4: ['code']\n",
      "Length 5: ['hello', 'world']\n",
      "Length 6: ['Python']\n"
     ]
    }
   ],
   "source": [
    "from itertools import groupby\n",
    "\n",
    "def group_words_by_length(words):\n",
    "    # Sort words by length first because using groupby requires sorted input\n",
    "    sorted_words = sorted(words, key=lambda w: len(w))\n",
    "    grouped = {\n",
    "        key: list(group)\n",
    "        for key, group in groupby(sorted_words, key=lambda w: len(w))\n",
    "    }\n",
    "    return grouped\n",
    "\n",
    "# Example usage\n",
    "input_words = [\"hi\", \"hello\", \"yo!\", \"Python\", \"code\", \"at\", \"world\", \"go\"]\n",
    "grouped_words = group_words_by_length(input_words)\n",
    "\n",
    "print(\"Original words:\", input_words)\n",
    "print(\"Grouped by length:\")\n",
    "for length, words in grouped_words.items():\n",
    "    print(f\"Length {length}: {words}\")\n"
   ]
  },
  {
   "cell_type": "markdown",
   "metadata": {},
   "source": [
    "### Exercise Completion  \n",
    "Once you have completed all exercises:\n",
    "- Review your solutions.\n",
    "- Ensure your code is well-documented with comments explaining your logic.\n",
    "- Save your notebook for submission or further review.\n",
    "\n",
    "Happy coding! Enjoy exploring functional programming with Python!"
   ]
  }
 ],
 "metadata": {
  "kernelspec": {
   "display_name": "base",
   "language": "python",
   "name": "python3"
  },
  "language_info": {
   "codemirror_mode": {
    "name": "ipython",
    "version": 3
   },
   "file_extension": ".py",
   "mimetype": "text/x-python",
   "name": "python",
   "nbconvert_exporter": "python",
   "pygments_lexer": "ipython3",
   "version": "3.11.5"
  }
 },
 "nbformat": 4,
 "nbformat_minor": 2
}
